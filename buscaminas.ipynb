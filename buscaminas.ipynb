{
 "cells": [
  {
   "cell_type": "markdown",
   "metadata": {},
   "source": [
    "# Implementación de un Algoritmo para Buscaminas usando Análisis de Riesgo con Heuristica\n",
    "\n",
    "## Introducción**\n",
    "\n",
    "Este reporte describe la implementación de un algoritmo en Python para jugar automáticamente al Buscaminas. El algoritmo utiliza procesamiento de imágenes para leer el estado del juego y un análisis de riesgo para determinar la mejor jugada.\n",
    "\n",
    "## Descripción del Problema\n",
    "\n",
    "El Buscaminas es un juego de lógica donde el objetivo es descubrir todas las casillas del tablero que no contienen minas. La dificultad radica en que solo se conoce el número de minas adyacentes a una casilla descubierta."
   ]
  },
  {
   "cell_type": "markdown",
   "metadata": {},
   "source": [
    "**Implementación**\n",
    "\n",
    "Nuestra implementación consta de tres partes principales: procesamiento de la imagen del juego, análisis del tablero, y toma de decisiones."
   ]
  },
  {
   "cell_type": "markdown",
   "metadata": {},
   "source": [
    "# Procesamiento de la Imagen\n",
    "\n",
    "Utilizamos pyautogui para capturar la pantalla y opencv-python junto con easyocr para procesar la imagen y extraer la información del tablero."
   ]
  },
  {
   "cell_type": "code",
   "execution_count": 39,
   "metadata": {},
   "outputs": [],
   "source": [
    "import cv2\n",
    "import numpy as np\n",
    "import easyocr\n",
    "import pyautogui\n",
    "from typing import List, Tuple, Optional\n"
   ]
  },
  {
   "cell_type": "code",
   "execution_count": 40,
   "metadata": {},
   "outputs": [],
   "source": [
    "SCREEN_WIDTH, SCREEN_HEIGHT = pyautogui.size()\n",
    "GAME_REGION = (SCREEN_WIDTH // 2+15, SCREEN_HEIGHT // 6+20, 43 * SCREEN_WIDTH // 105 -21, 92 * SCREEN_HEIGHT // 125-15)\n",
    "BOARD_SIZE = 9"
   ]
  },
  {
   "cell_type": "code",
   "execution_count": 41,
   "metadata": {},
   "outputs": [],
   "source": [
    "def screenshot_gameboard():\n",
    "    return pyautogui.screenshot(region=GAME_REGION)"
   ]
  },
  {
   "cell_type": "code",
   "execution_count": 42,
   "metadata": {},
   "outputs": [],
   "source": [
    "\n",
    "def process_board_cells(gray_image, cell_size, reader):\n",
    "    board_matrix = np.zeros((BOARD_SIZE, BOARD_SIZE), dtype=int)\n",
    "    for i in range(BOARD_SIZE):\n",
    "        for j in range(BOARD_SIZE):\n",
    "            cell_img = gray_image[i*cell_size:(i+1)*cell_size, j*cell_size:(j+1)*cell_size]\n",
    "            avg_pixel_value = np.mean(cell_img)\n",
    "            if avg_pixel_value < 128:\n",
    "                board_matrix[i, j] = -1\n",
    "            cell_img_inverted = cv2.bitwise_not(cell_img)\n",
    "            result = reader.readtext(cell_img_inverted, detail=0)\n",
    "            text = result[0].strip() if result else \"\"\n",
    "            if text.isdigit():\n",
    "                board_matrix[i, j] = int(text)\n",
    "            elif avg_pixel_value >= 128:\n",
    "                board_matrix[i, j] = 0\n",
    "    \n",
    "    return board_matrix"
   ]
  },
  {
   "cell_type": "code",
   "execution_count": 43,
   "metadata": {},
   "outputs": [],
   "source": [
    "def process_game_board():\n",
    "    screenshot = screenshot_gameboard()\n",
    "    screenshot.save(\"captura_color.png\")\n",
    "    screenshot_np = np.array(screenshot)\n",
    "    gray_image = cv2.cvtColor(screenshot_np, cv2.COLOR_BGR2GRAY)\n",
    "    cv2.imwrite(\"captura_gris.png\", gray_image)\n",
    "    cell_size = 83  \n",
    "    board_matrix = np.zeros((BOARD_SIZE, BOARD_SIZE), dtype=int)\n",
    "    reader = easyocr.Reader(['en'], gpu=False)\n",
    "    board_matrix = process_board_cells(gray_image, cell_size, reader)\n",
    "    return board_matrix"
   ]
  },
  {
   "cell_type": "markdown",
   "metadata": {},
   "source": [
    "# Análisis del Tablero y Toma de Decisiones\n",
    "\n",
    "Implementamos una función get_best_cell que analiza el tablero y determina la celda con menor riesgo de contener una mina."
   ]
  },
  {
   "cell_type": "code",
   "execution_count": 45,
   "metadata": {},
   "outputs": [],
   "source": [
    "def get_best_cell(board_matrix: List[List[int]]) -> Optional[Tuple[int, int]]:\n",
    "    def is_valid(x: int, y: int) -> bool:\n",
    "        return 0 <= x < BOARD_SIZE and 0 <= y < BOARD_SIZE\n",
    "\n",
    "    def get_unopened_neighbors(x: int, y: int) -> List[Tuple[int, int]]:\n",
    "        neighbors = []\n",
    "        for dx in [-1, 0, 1]:\n",
    "            for dy in [-1, 0, 1]:\n",
    "                if dx == 0 and dy == 0:\n",
    "                    continue\n",
    "                nx, ny = x + dx, y + dy\n",
    "                if is_valid(nx, ny) and board_matrix[nx][ny] == 0:\n",
    "                    neighbors.append((nx, ny))\n",
    "        return neighbors\n",
    "\n",
    "    def get_number_neighbors(x: int, y: int) -> List[Tuple[int, int]]:\n",
    "        neighbors = []\n",
    "        for dx in [-1, 0, 1]:\n",
    "            for dy in [-1, 0, 1]:\n",
    "                if dx == 0 and dy == 0:\n",
    "                    continue\n",
    "                nx, ny = x + dx, y + dy\n",
    "                if is_valid(nx, ny) and board_matrix[nx][ny] > 0:\n",
    "                    neighbors.append((nx, ny))\n",
    "        return neighbors\n",
    "\n",
    "    best_cell = None\n",
    "    min_risk = float('inf')\n",
    "\n",
    "    for i in range(BOARD_SIZE):\n",
    "        for j in range(BOARD_SIZE):\n",
    "            if board_matrix[i][j] == 0:  # Unopened cell\n",
    "                risk = 0\n",
    "                number_neighbors = get_number_neighbors(i, j)\n",
    "                for nx, ny in number_neighbors:\n",
    "                    unopened_neighbors = get_unopened_neighbors(nx, ny)\n",
    "                    if unopened_neighbors:\n",
    "                        risk += board_matrix[nx][ny] / len(unopened_neighbors)\n",
    "                \n",
    "                if risk < min_risk:\n",
    "                    min_risk = risk\n",
    "                    best_cell = (i, j)\n",
    "\n",
    "    return best_cell"
   ]
  },
  {
   "cell_type": "markdown",
   "metadata": {},
   "source": [
    "**Bucle Principal del Juego**\n",
    "\n",
    "La función solve_mine_sweeper implementa el bucle principal del juego, que repite el proceso de analizar el tablero, elegir la mejor jugada y realizarla."
   ]
  },
  {
   "cell_type": "code",
   "execution_count": 46,
   "metadata": {},
   "outputs": [],
   "source": [
    "def solve_mine_sweeper():\n",
    "    board_matrix = process_game_board()\n",
    "    while True:\n",
    "        best_cell = get_best_cell(board_matrix)\n",
    "        if best_cell is None:\n",
    "            break\n",
    "        i, j = best_cell\n",
    "        pyautogui.click(GAME_REGION[0] + j * 83 + 41, GAME_REGION[1] + i * 83 + 41)\n",
    "        board_matrix = process_game_board()"
   ]
  },
  {
   "cell_type": "markdown",
   "metadata": {},
   "source": [
    "## Ejecución final"
   ]
  },
  {
   "cell_type": "code",
   "execution_count": 51,
   "metadata": {},
   "outputs": [
    {
     "name": "stderr",
     "output_type": "stream",
     "text": [
      "Using CPU. Note: This module is much faster with a GPU.\n"
     ]
    }
   ],
   "source": [
    "if __name__ == \"__main__\":\n",
    "    solve_mine_sweeper()"
   ]
  },
  {
   "cell_type": "markdown",
   "metadata": {},
   "source": [
    "# Resultados y Análisis\n",
    "\n",
    "El algoritmo implementado utiliza un enfoque de análisis de riesgo para determinar la mejor jugada. Para cada celda no abierta, calcula un \"riesgo\" basado en la información de las celdas vecinas. Este enfoque permite al algoritmo tomar decisiones informadas incluso en situaciones donde no hay una jugada segura garantizada.\n",
    "\n",
    "Ventajas del enfoque:\n",
    "\n",
    "1. Adaptabilidad: El algoritmo puede ajustarse a diferentes estados del juego.\n",
    "2. Eficiencia: Al considerar solo las celdas relevantes, el algoritmo puede tomar decisiones rápidamente.\n",
    "3. Basado en probabilidades: El uso de un sistema de riesgo permite manejar la incertidumbre inherente al juego.\n",
    "\n",
    "Limitaciones:\n",
    "\n",
    "1. No garantiza una solución óptima: En algunos casos, el azar sigue jugando un papel importante.\n",
    "2. Dependencia de la calidad de la imagen: El rendimiento del algoritmo está ligado a la precisión del procesamiento de la imagen.\n",
    "\n",
    "**Conclusiones**\n",
    "\n",
    "Hemos implementado con éxito un algoritmo capaz de jugar al Buscaminas de forma autónoma. El enfoque de análisis de riesgo proporciona una estrategia robusta para tomar decisiones en un entorno con información incompleta.\n",
    "Posibles mejoras futuras incluyen:\n",
    "\n",
    "Refinamiento del algoritmo de procesamiento de imágenes para mejorar la precisión.\n",
    "Implementación de técnicas de aprendizaje automático para optimizar la estrategia de juego.\n",
    "Extensión del algoritmo para manejar diferentes tamaños de tablero y niveles de dificultad."
   ]
  },
  {
   "cell_type": "markdown",
   "metadata": {},
   "source": [
    "**Referencias**\n",
    "\n",
    "1. OpenCV Documentation. https://docs.opencv.org/\n",
    "\n",
    "2. EasyOCR Documentation. https://github.com/JaidedAI/EasyOCR\n",
    "\n",
    "3. PyAutoGUI Documentation. https://pyautogui.readthedocs.io/"
   ]
  }
 ],
 "metadata": {
  "kernelspec": {
   "display_name": "Python 3",
   "language": "python",
   "name": "python3"
  },
  "language_info": {
   "codemirror_mode": {
    "name": "ipython",
    "version": 3
   },
   "file_extension": ".py",
   "mimetype": "text/x-python",
   "name": "python",
   "nbconvert_exporter": "python",
   "pygments_lexer": "ipython3",
   "version": "3.11.7"
  }
 },
 "nbformat": 4,
 "nbformat_minor": 2
}
